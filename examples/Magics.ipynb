{
 "cells": [
  {
   "cell_type": "markdown",
   "id": "bored-egyptian",
   "metadata": {},
   "source": [
    "# Magics\n",
    "\n",
    "> `jupyterlab-graph-lsp` doesn't actually _ship_ these magics on the kernel side. The\n",
    "> ones below are provided for testing purposes only."
   ]
  },
  {
   "cell_type": "code",
   "execution_count": null,
   "id": "allied-ranking",
   "metadata": {},
   "outputs": [],
   "source": [
    "from gql import gql\n",
    "from IPython.core.magic import register_line_cell_magic\n",
    "from rdflib import Graph"
   ]
  },
  {
   "cell_type": "code",
   "execution_count": null,
   "id": "accessory-bullet",
   "metadata": {},
   "outputs": [],
   "source": [
    "@register_line_cell_magic\n",
    "def turtle(line, cell):\n",
    "    G = Graph()\n",
    "    return G.parse(data=cell, format=\"turtle\")"
   ]
  },
  {
   "cell_type": "code",
   "execution_count": null,
   "id": "automated-ferry",
   "metadata": {},
   "outputs": [],
   "source": [
    "@register_line_cell_magic\n",
    "def sparql(line, cell):\n",
    "    G = Graph()\n",
    "    return G.query(cell)"
   ]
  },
  {
   "cell_type": "code",
   "execution_count": null,
   "id": "imported-purse",
   "metadata": {},
   "outputs": [],
   "source": [
    "@register_line_cell_magic\n",
    "def graphql(line, cell):\n",
    "    return gql(cell)"
   ]
  },
  {
   "cell_type": "markdown",
   "id": "mexican-shape",
   "metadata": {},
   "source": [
    "## Turtle\n",
    "\n",
    "Turtle is a [W3C standard](https://www.w3.org/TR/2014/REC-turtle-20140225/) for\n",
    "describing RDF graphs."
   ]
  },
  {
   "cell_type": "code",
   "execution_count": null,
   "id": "silver-cedar",
   "metadata": {},
   "outputs": [],
   "source": [
    "%%turtle\n",
    "@base <http://example.org/> .\n",
    "@prefix rdf: <http://www.w3.org/1999/02/22-rdf-syntax-ns#> .\n",
    "@prefix rdfs: <http://www.w3.org/2000/01/rdf-schema#> .\n",
    "@prefix foaf: <http://xmlns.com/foaf/0.1/> .\n",
    "@prefix rel: <http://www.perceive.net/schemas/relationship/> .\n",
    "\n",
    "<#green-goblin>\n",
    "    rel:enemyOf <#spiderman> ;\n",
    "    a foaf:Person ;    # in the context of the Marvel universe\n",
    "    foaf:name \"Green Goblin\" .\n",
    "\n",
    "<#spiderman>\n",
    "    rel:enemyOf <#green-goblin> ;\n",
    "    a foaf:Person ;\n",
    "    foaf:name \"Spiderman\", \"Человек-паук\"@ru ."
   ]
  },
  {
   "cell_type": "markdown",
   "id": "eight-signature",
   "metadata": {},
   "source": [
    "## SPARQL\n",
    "\n",
    "SPARQL is a [W3C standard](https://www.w3.org/TR/sparql11-query) for querying RDF\n",
    "graphs."
   ]
  },
  {
   "cell_type": "code",
   "execution_count": null,
   "id": "curious-democracy",
   "metadata": {},
   "outputs": [],
   "source": [
    "%%sparql\n",
    "PREFIX foaf:    <http://xmlns.com/foaf/0.1/>\n",
    "SELECT ?nameX ?nameY ?nickY\n",
    "WHERE\n",
    "  { ?x foaf:knows ?y ;\n",
    "       foaf:name ?nameX .\n",
    "    ?y foaf:name ?nameY .\n",
    "    OPTIONAL { ?y foaf:nick ?nickY }\n",
    "  }"
   ]
  },
  {
   "cell_type": "markdown",
   "id": "freelance-captain",
   "metadata": {},
   "source": [
    "## GraphQL\n",
    "\n",
    "GraphQL is a [broadly-implemented specification](https://spec.graphql.org/June2018) for\n",
    "querying graphs."
   ]
  },
  {
   "cell_type": "code",
   "execution_count": null,
   "id": "adaptive-republican",
   "metadata": {},
   "outputs": [],
   "source": [
    "%%graphql\n",
    "{\n",
    "  me {\n",
    "    id\n",
    "    firstName\n",
    "    lastName\n",
    "    birthday {\n",
    "      month\n",
    "      day\n",
    "    }\n",
    "    friends {\n",
    "      name\n",
    "    }\n",
    "  }\n",
    "}"
   ]
  }
 ],
 "metadata": {
  "kernelspec": {
   "display_name": "Python 3",
   "language": "python",
   "name": "python3"
  },
  "language_info": {
   "codemirror_mode": {
    "name": "ipython",
    "version": 3
   },
   "file_extension": ".py",
   "mimetype": "text/x-python",
   "name": "python",
   "nbconvert_exporter": "python",
   "pygments_lexer": "ipython3",
   "version": "3.7.10"
  }
 },
 "nbformat": 4,
 "nbformat_minor": 5
}
